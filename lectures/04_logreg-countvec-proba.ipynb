{
 "cells": [
  {
   "cell_type": "markdown",
   "metadata": {
    "slideshow": {
     "slide_type": "slide"
    }
   },
   "source": [
    "# CPSC 330 Lecture 4"
   ]
  },
  {
   "cell_type": "markdown",
   "metadata": {
    "slideshow": {
     "slide_type": "slide"
    }
   },
   "source": [
    "#### Lecture plan\n",
    "\n",
    "- Announcements\n",
    "- Logistic regression intro (5 min)\n",
    "- `CountVectorizer` and feature preprocessing pitfalls (25 min)\n",
    "- Break (5 min)\n",
    "- Logistic regression: `predict_proba` (10 min)\n",
    "- Logistic regression: coefficients and interpretation (10 min)\n",
    "- Logistic regression with continuous features (10 min)\n",
    "- True/False questions (15 min)"
   ]
  },
  {
   "cell_type": "markdown",
   "metadata": {},
   "source": [
    "## Note\n",
    "\n",
    "When to address overfitting on the validation set?"
   ]
  },
  {
   "cell_type": "code",
   "execution_count": 30,
   "metadata": {
    "slideshow": {
     "slide_type": "skip"
    }
   },
   "outputs": [],
   "source": [
    "import numpy as np\n",
    "import pandas as pd\n",
    "import matplotlib.pyplot as plt\n",
    "%matplotlib inline\n",
    "\n",
    "from sklearn.tree import DecisionTreeClassifier\n",
    "from sklearn.model_selection import train_test_split \n",
    "from sklearn.preprocessing import normalize, scale, Normalizer, StandardScaler\n",
    "from sklearn.linear_model import LogisticRegression\n",
    "from sklearn import datasets\n",
    "\n",
    "from plot_classifier import plot_classifier"
   ]
  },
  {
   "cell_type": "code",
   "execution_count": 31,
   "metadata": {},
   "outputs": [],
   "source": [
    "import warnings\n",
    "warnings.simplefilter(action='ignore', category=FutureWarning)"
   ]
  },
  {
   "cell_type": "code",
   "execution_count": 32,
   "metadata": {
    "slideshow": {
     "slide_type": "skip"
    }
   },
   "outputs": [],
   "source": [
    "def show_scores(model, \n",
    "                X_train, y_train,\n",
    "                X_valid, y_valid):\n",
    "    \"\"\"\n",
    "    Shows train and test error \n",
    "    Parameters\n",
    "    ----------\n",
    "    model: sklearn classifier model\n",
    "        The sklearn model\n",
    "    X_train: numpy.ndarray        \n",
    "        The X part of the train set\n",
    "    y_train: numpy.ndarray\n",
    "        The y part of the train set    \n",
    "    X_valid: numpy.ndarray        \n",
    "        The X part of the validation set\n",
    "    y_valid: numpy.ndarray\n",
    "        The y part of the validation set    \n",
    "    Returns\n",
    "    -------\n",
    "        None\n",
    "        prints the train and validation errors. \n",
    "            \n",
    "    \"\"\"    \n",
    "    print(\"Training error:   %.2f\" % (1-model.score(X_train, y_train)))\n",
    "    print(\"Validation error: %.2f\" % (1-model.score(X_valid, y_valid)))"
   ]
  },
  {
   "cell_type": "markdown",
   "metadata": {},
   "source": [
    "## Announcements\n",
    "\n",
    "- Add-Drop has passed - welcome to the course!\n",
    "- Please fill out the new survey on [Canvas](https://canvas.ubc.ca/courses/36014) by Thursday.\n",
    "- hw1 grades posted, hw2 deadlines passed, hw3 posted.\n",
    "- The homework deadline has been moved to Sunday at 6pm.\n",
    "- New requirement for working with partners: a short statement about who did what.\n",
    "- Some (all?) of the tutorial sections are trying out a \"help session\" format - please provide feedback to me or the TAs!"
   ]
  },
  {
   "cell_type": "markdown",
   "metadata": {},
   "source": [
    "## Logistic regression intro (5 min)"
   ]
  },
  {
   "cell_type": "markdown",
   "metadata": {
    "slideshow": {
     "slide_type": "slide"
    }
   },
   "source": [
    "#### Motivating example \n",
    "\n",
    "- Sentiment analysis: predict the sentiment of text, such as a movie review.\n",
    "- Targets: positive 👍 and negative 👎\n",
    "- Features: words (e.g., *excellent*, *well* for 👍 and *boring* for 👎)\n",
    "\n",
    "<blockquote> \n",
    "    <p>Review 1: This movie was <b>excellent</b>! The performances were oscar-worthy!  👍 </p> \n",
    "    <p>Review 2: What a <b>boring</b> movie! I almost fell asleep twice while watching it. 👎 </p> \n",
    "    <p>Review 3: I enjoyed the movie. <b>Excellent</b>! 👍 </p>             \n",
    "</blockquote>  "
   ]
  },
  {
   "cell_type": "markdown",
   "metadata": {
    "slideshow": {
     "slide_type": "slide"
    }
   },
   "source": [
    "#### Intuition behind a linear classifier\n",
    "\n",
    "- Learn coefficients (weights) associated with different features\n",
    "\n",
    "<img src='img/words_coeff.png' width=\"300\" height=\"300\" />\n",
    "\n",
    "- Use these learned coefficients to make predictions. For example, consider the following review $x_i$. \n",
    "<blockquote> \n",
    "    <p>It got a bit <b>boring</b> at times but the direction was <b>excellent</b> and the acting was <b>flawless</b>. </p> \n",
    "</blockquote>"
   ]
  },
  {
   "cell_type": "markdown",
   "metadata": {
    "slideshow": {
     "slide_type": "slide"
    }
   },
   "source": [
    "#### Linear classifier \n",
    "\n",
    "- $score(x_i) = $ coefficient(*boring*) + coefficient(*excellent*) + coefficient(*flawless*) = $-1.40 + 1.93 + 1.43 = 1.96$\n",
    "- Since $score(x_i) = 1.96 > 0$, predict the review as positive 👍. \n",
    "- Components of a linear model\n",
    "    - input features ($x_1, \\dots, x_d$)\n",
    "    - coefficients (weights) ($w_1, \\dots, w_d$)\n",
    "    - bias or intercept ($b$ or $w_0$)"
   ]
  },
  {
   "cell_type": "markdown",
   "metadata": {
    "slideshow": {
     "slide_type": "slide"
    }
   },
   "source": [
    "#### Logistic regression\n",
    "\n",
    "In particular, we will focus on \n",
    "- use `fit`, `predict`, `predict_proba`\n",
    "- use `coef_` to interpret the model weights \n"
   ]
  },
  {
   "cell_type": "markdown",
   "metadata": {},
   "source": [
    "## `CountVectorizer` and the Golden Rule (35 min)"
   ]
  },
  {
   "cell_type": "markdown",
   "metadata": {
    "slideshow": {
     "slide_type": "slide"
    }
   },
   "source": [
    "#### Let's train it on a dataset\n",
    "\n",
    "I have downloaded the [IMDB movie review dataset](https://www.kaggle.com/utathya/imdb-review-dataset) from Kaggle. You should be able to download it as well. I did not push it to the home repo because it is large and because I don't have permission to redistribute it."
   ]
  },
  {
   "cell_type": "code",
   "execution_count": 123,
   "metadata": {
    "slideshow": {
     "slide_type": "slide"
    }
   },
   "outputs": [
    {
     "data": {
      "text/html": [
       "<div>\n",
       "<style scoped>\n",
       "    .dataframe tbody tr th:only-of-type {\n",
       "        vertical-align: middle;\n",
       "    }\n",
       "\n",
       "    .dataframe tbody tr th {\n",
       "        vertical-align: top;\n",
       "    }\n",
       "\n",
       "    .dataframe thead th {\n",
       "        text-align: right;\n",
       "    }\n",
       "</style>\n",
       "<table border=\"1\" class=\"dataframe\">\n",
       "  <thead>\n",
       "    <tr style=\"text-align: right;\">\n",
       "      <th></th>\n",
       "      <th>type</th>\n",
       "      <th>review</th>\n",
       "      <th>label</th>\n",
       "      <th>file</th>\n",
       "    </tr>\n",
       "  </thead>\n",
       "  <tbody>\n",
       "    <tr>\n",
       "      <th>12438</th>\n",
       "      <td>test</td>\n",
       "      <td>As Jennifer Denuccio used to say on Square Peg...</td>\n",
       "      <td>neg</td>\n",
       "      <td>9946_2.txt</td>\n",
       "    </tr>\n",
       "    <tr>\n",
       "      <th>5705</th>\n",
       "      <td>test</td>\n",
       "      <td>With Knightly and O'Tool as the leads, this fi...</td>\n",
       "      <td>neg</td>\n",
       "      <td>3886_3.txt</td>\n",
       "    </tr>\n",
       "    <tr>\n",
       "      <th>11675</th>\n",
       "      <td>test</td>\n",
       "      <td>Take a bad script, some lousy acting and throw...</td>\n",
       "      <td>neg</td>\n",
       "      <td>9259_1.txt</td>\n",
       "    </tr>\n",
       "    <tr>\n",
       "      <th>9824</th>\n",
       "      <td>test</td>\n",
       "      <td>Strange things happen to Americans Will (Greg ...</td>\n",
       "      <td>neg</td>\n",
       "      <td>7593_3.txt</td>\n",
       "    </tr>\n",
       "    <tr>\n",
       "      <th>22581</th>\n",
       "      <td>test</td>\n",
       "      <td>Sometimes, you're up late at night flipping th...</td>\n",
       "      <td>pos</td>\n",
       "      <td>7824_7.txt</td>\n",
       "    </tr>\n",
       "    <tr>\n",
       "      <th>...</th>\n",
       "      <td>...</td>\n",
       "      <td>...</td>\n",
       "      <td>...</td>\n",
       "      <td>...</td>\n",
       "    </tr>\n",
       "    <tr>\n",
       "      <th>31555</th>\n",
       "      <td>train</td>\n",
       "      <td>With a cast of stalwart British character acto...</td>\n",
       "      <td>neg</td>\n",
       "      <td>4650_2.txt</td>\n",
       "    </tr>\n",
       "    <tr>\n",
       "      <th>36478</th>\n",
       "      <td>train</td>\n",
       "      <td>There's a lot of movies that have set release ...</td>\n",
       "      <td>neg</td>\n",
       "      <td>9081_1.txt</td>\n",
       "    </tr>\n",
       "    <tr>\n",
       "      <th>35878</th>\n",
       "      <td>train</td>\n",
       "      <td>Welcome to movie 17 on the chilling classics 5...</td>\n",
       "      <td>neg</td>\n",
       "      <td>8541_1.txt</td>\n",
       "    </tr>\n",
       "    <tr>\n",
       "      <th>16040</th>\n",
       "      <td>test</td>\n",
       "      <td>This is a forgotten classic of a film, and Har...</td>\n",
       "      <td>pos</td>\n",
       "      <td>1937_10.txt</td>\n",
       "    </tr>\n",
       "    <tr>\n",
       "      <th>12996</th>\n",
       "      <td>test</td>\n",
       "      <td>Spoilers: This movie has it's problems, but in...</td>\n",
       "      <td>pos</td>\n",
       "      <td>10447_7.txt</td>\n",
       "    </tr>\n",
       "  </tbody>\n",
       "</table>\n",
       "<p>10000 rows × 4 columns</p>\n",
       "</div>"
      ],
      "text/plain": [
       "        type                                             review label  \\\n",
       "12438   test  As Jennifer Denuccio used to say on Square Peg...   neg   \n",
       "5705    test  With Knightly and O'Tool as the leads, this fi...   neg   \n",
       "11675   test  Take a bad script, some lousy acting and throw...   neg   \n",
       "9824    test  Strange things happen to Americans Will (Greg ...   neg   \n",
       "22581   test  Sometimes, you're up late at night flipping th...   pos   \n",
       "...      ...                                                ...   ...   \n",
       "31555  train  With a cast of stalwart British character acto...   neg   \n",
       "36478  train  There's a lot of movies that have set release ...   neg   \n",
       "35878  train  Welcome to movie 17 on the chilling classics 5...   neg   \n",
       "16040   test  This is a forgotten classic of a film, and Har...   pos   \n",
       "12996   test  Spoilers: This movie has it's problems, but in...   pos   \n",
       "\n",
       "              file  \n",
       "12438   9946_2.txt  \n",
       "5705    3886_3.txt  \n",
       "11675   9259_1.txt  \n",
       "9824    7593_3.txt  \n",
       "22581   7824_7.txt  \n",
       "...            ...  \n",
       "31555   4650_2.txt  \n",
       "36478   9081_1.txt  \n",
       "35878   8541_1.txt  \n",
       "16040  1937_10.txt  \n",
       "12996  10447_7.txt  \n",
       "\n",
       "[10000 rows x 4 columns]"
      ]
     },
     "execution_count": 123,
     "metadata": {},
     "output_type": "execute_result"
    }
   ],
   "source": [
    "# Read IMDB movie reviews into a pandas DataFrame\n",
    "imdb_df = pd.read_csv('data/imdb_master.csv', index_col=0, encoding=\"ISO-8859-1\")\n",
    "imdb_df = imdb_df[imdb_df['label'].str.startswith(('pos','neg'))]\n",
    "imdb_df = imdb_df.sample(frac=0.2, random_state=999)\n",
    "imdb_df"
   ]
  },
  {
   "cell_type": "code",
   "execution_count": 124,
   "metadata": {},
   "outputs": [
    {
     "data": {
      "text/plain": [
       "(10000, 4)"
      ]
     },
     "execution_count": 124,
     "metadata": {},
     "output_type": "execute_result"
    }
   ],
   "source": [
    "imdb_df.shape"
   ]
  },
  {
   "cell_type": "markdown",
   "metadata": {},
   "source": [
    "- Above, we used some key words in a review to decide how to classify it. \n",
    "- But here, we just have raw text:"
   ]
  },
  {
   "cell_type": "code",
   "execution_count": 125,
   "metadata": {},
   "outputs": [
    {
     "data": {
      "text/plain": [
       "\"This is an example of why the majority of action films are the same. Generic and boring, there's really nothing worth watching here. A complete waste of the then barely-tapped talents of Ice-T and Ice Cube, who've each proven many times over that they are capable of acting, and acting well. Don't bother with this one, go see New Jack City, Ricochet or watch New York Undercover for Ice-T, or Boyz n the Hood, Higher Learning or Friday for Ice Cube and see the real deal. Ice-T's horribly cliched dialogue alone makes this film grate at the teeth, and I'm still wondering what the heck Bill Paxton was doing in this film? And why the heck does he always play the exact same character? From Aliens onward, every film I've seen with Bill Paxton has him playing the exact same irritating character, and at least in Aliens his character died, which made it somewhat gratifying...<br /><br />Overall, this is second-rate action trash. There are countless better films to see, and if you really want to see this one, watch Judgement Night, which is practically a carbon copy but has better acting and a better script. The only thing that made this at all worth watching was a decent hand on the camera - the cinematography was almost refreshing, which comes close to making up for the horrible film itself - but not quite. 4/10.\""
      ]
     },
     "execution_count": 125,
     "metadata": {},
     "output_type": "execute_result"
    }
   ],
   "source": [
    "imdb_df.loc[1,\"review\"]"
   ]
  },
  {
   "cell_type": "markdown",
   "metadata": {},
   "source": [
    "We need a way to transform this raw text into use usual tabular format, where each column is a feature... hmm... 🤔\n",
    "\n",
    "<br><br><br><br>\n",
    "\n",
    "How about this: each word is a feature (column), and we check whether the word is present or absent in the review 💡"
   ]
  },
  {
   "cell_type": "code",
   "execution_count": 36,
   "metadata": {},
   "outputs": [],
   "source": [
    "from sklearn.feature_extraction.text import CountVectorizer"
   ]
  },
  {
   "cell_type": "markdown",
   "metadata": {},
   "source": [
    "Make a CountVectorizer object:"
   ]
  },
  {
   "cell_type": "code",
   "execution_count": 127,
   "metadata": {
    "slideshow": {
     "slide_type": "slide"
    }
   },
   "outputs": [],
   "source": [
    "vec = CountVectorizer(binary=True)"
   ]
  },
  {
   "cell_type": "markdown",
   "metadata": {},
   "source": [
    "Note `binary=True` - that means just check whether a word is present (1) or absent (0), instead of counting the number of occurrences of the word."
   ]
  },
  {
   "cell_type": "markdown",
   "metadata": {},
   "source": [
    "Call `fit`:"
   ]
  },
  {
   "cell_type": "code",
   "execution_count": 128,
   "metadata": {},
   "outputs": [
    {
     "data": {
      "text/plain": [
       "CountVectorizer(analyzer='word', binary=False, decode_error='strict',\n",
       "                dtype=<class 'numpy.int64'>, encoding='utf-8', input='content',\n",
       "                lowercase=True, max_df=1.0, max_features=None, min_df=1,\n",
       "                ngram_range=(1, 1), preprocessor=None, stop_words=None,\n",
       "                strip_accents=None, token_pattern='(?u)\\\\b\\\\w\\\\w+\\\\b',\n",
       "                tokenizer=None, vocabulary=None)"
      ]
     },
     "execution_count": 128,
     "metadata": {},
     "output_type": "execute_result"
    }
   ],
   "source": [
    "vec.fit(imdb_df[\"review\"]) "
   ]
  },
  {
   "cell_type": "markdown",
   "metadata": {},
   "source": [
    "For feature preprocessing objects, called _transformers_, we use `transform` instead of `predict` (indeed, it's not a prediction):"
   ]
  },
  {
   "cell_type": "code",
   "execution_count": 129,
   "metadata": {},
   "outputs": [],
   "source": [
    "X = vec.transform(imdb_df[\"review\"])"
   ]
  },
  {
   "cell_type": "code",
   "execution_count": 14,
   "metadata": {},
   "outputs": [
    {
     "data": {
      "text/plain": [
       "array([[0, 0, 0, ..., 0, 0, 0]])"
      ]
     },
     "execution_count": 14,
     "metadata": {},
     "output_type": "execute_result"
    }
   ],
   "source": [
    "X[1].toarray()"
   ]
  },
  {
   "cell_type": "markdown",
   "metadata": {},
   "source": [
    "Hmm, is it only zeros for this first review?"
   ]
  },
  {
   "cell_type": "code",
   "execution_count": 15,
   "metadata": {},
   "outputs": [
    {
     "data": {
      "text/plain": [
       "(10000, 52863)"
      ]
     },
     "execution_count": 15,
     "metadata": {},
     "output_type": "execute_result"
    }
   ],
   "source": [
    "X.shape"
   ]
  },
  {
   "cell_type": "markdown",
   "metadata": {},
   "source": [
    "That's a lot of columns!"
   ]
  },
  {
   "cell_type": "code",
   "execution_count": 17,
   "metadata": {},
   "outputs": [
    {
     "data": {
      "text/plain": [
       "['00',\n",
       " '000',\n",
       " '001',\n",
       " '007',\n",
       " '0093638',\n",
       " '00pm',\n",
       " '00s',\n",
       " '01',\n",
       " '02',\n",
       " '03',\n",
       " '04',\n",
       " '041',\n",
       " '05',\n",
       " '06',\n",
       " '0615',\n",
       " '06th',\n",
       " '07',\n",
       " '08',\n",
       " '089',\n",
       " '0and']"
      ]
     },
     "execution_count": 17,
     "metadata": {},
     "output_type": "execute_result"
    }
   ],
   "source": [
    "vec.get_feature_names()[:20]"
   ]
  },
  {
   "cell_type": "markdown",
   "metadata": {},
   "source": [
    "- Ok, this seems like a lot of useless \"words\".\n",
    "- We can use some hyperparameters of the `CountVectorizer` to just take more common words.\n",
    "- Note: later in the course, after reading week, we will explore this more in terms of removing useless words, etc.\n",
    "  - For now we'll just focus on subsetting the features."
   ]
  },
  {
   "cell_type": "code",
   "execution_count": 18,
   "metadata": {},
   "outputs": [],
   "source": [
    "vec = CountVectorizer(min_df=50, binary=True) # words that appear at least n times\n",
    "\n",
    "vec.fit(imdb_df[\"review\"]) \n",
    "\n",
    "X = vec.transform(imdb_df[\"review\"])"
   ]
  },
  {
   "cell_type": "code",
   "execution_count": 19,
   "metadata": {},
   "outputs": [
    {
     "data": {
      "text/plain": [
       "(10000, 3243)"
      ]
     },
     "execution_count": 19,
     "metadata": {},
     "output_type": "execute_result"
    }
   ],
   "source": [
    "X.shape"
   ]
  },
  {
   "cell_type": "markdown",
   "metadata": {},
   "source": [
    "We can also explicitly ask for the top $n$ words:"
   ]
  },
  {
   "cell_type": "code",
   "execution_count": 139,
   "metadata": {},
   "outputs": [],
   "source": [
    "vec = CountVectorizer(max_features=1000, binary=True) # max n columns\n",
    "\n",
    "vec.fit(imdb_df[\"review\"]) \n",
    "\n",
    "X = vec.transform(imdb_df[\"review\"])"
   ]
  },
  {
   "cell_type": "code",
   "execution_count": 140,
   "metadata": {},
   "outputs": [
    {
     "data": {
      "text/plain": [
       "(10000, 1000)"
      ]
     },
     "execution_count": 140,
     "metadata": {},
     "output_type": "execute_result"
    }
   ],
   "source": [
    "X.shape"
   ]
  },
  {
   "cell_type": "code",
   "execution_count": 141,
   "metadata": {},
   "outputs": [
    {
     "data": {
      "text/html": [
       "<div>\n",
       "<style scoped>\n",
       "    .dataframe tbody tr th:only-of-type {\n",
       "        vertical-align: middle;\n",
       "    }\n",
       "\n",
       "    .dataframe tbody tr th {\n",
       "        vertical-align: top;\n",
       "    }\n",
       "\n",
       "    .dataframe thead th {\n",
       "        text-align: right;\n",
       "    }\n",
       "</style>\n",
       "<table border=\"1\" class=\"dataframe\">\n",
       "  <thead>\n",
       "    <tr style=\"text-align: right;\">\n",
       "      <th></th>\n",
       "      <th>10</th>\n",
       "      <th>20</th>\n",
       "      <th>30</th>\n",
       "      <th>80</th>\n",
       "      <th>able</th>\n",
       "      <th>about</th>\n",
       "      <th>above</th>\n",
       "      <th>absolutely</th>\n",
       "      <th>across</th>\n",
       "      <th>act</th>\n",
       "      <th>...</th>\n",
       "      <th>wrong</th>\n",
       "      <th>year</th>\n",
       "      <th>years</th>\n",
       "      <th>yes</th>\n",
       "      <th>yet</th>\n",
       "      <th>york</th>\n",
       "      <th>you</th>\n",
       "      <th>young</th>\n",
       "      <th>your</th>\n",
       "      <th>yourself</th>\n",
       "    </tr>\n",
       "  </thead>\n",
       "  <tbody>\n",
       "    <tr>\n",
       "      <th>0</th>\n",
       "      <td>0</td>\n",
       "      <td>0</td>\n",
       "      <td>0</td>\n",
       "      <td>0</td>\n",
       "      <td>0</td>\n",
       "      <td>1</td>\n",
       "      <td>0</td>\n",
       "      <td>0</td>\n",
       "      <td>0</td>\n",
       "      <td>1</td>\n",
       "      <td>...</td>\n",
       "      <td>0</td>\n",
       "      <td>1</td>\n",
       "      <td>0</td>\n",
       "      <td>0</td>\n",
       "      <td>0</td>\n",
       "      <td>0</td>\n",
       "      <td>0</td>\n",
       "      <td>0</td>\n",
       "      <td>1</td>\n",
       "      <td>0</td>\n",
       "    </tr>\n",
       "    <tr>\n",
       "      <th>1</th>\n",
       "      <td>0</td>\n",
       "      <td>0</td>\n",
       "      <td>0</td>\n",
       "      <td>0</td>\n",
       "      <td>0</td>\n",
       "      <td>0</td>\n",
       "      <td>0</td>\n",
       "      <td>0</td>\n",
       "      <td>0</td>\n",
       "      <td>0</td>\n",
       "      <td>...</td>\n",
       "      <td>0</td>\n",
       "      <td>0</td>\n",
       "      <td>1</td>\n",
       "      <td>0</td>\n",
       "      <td>0</td>\n",
       "      <td>0</td>\n",
       "      <td>0</td>\n",
       "      <td>0</td>\n",
       "      <td>0</td>\n",
       "      <td>0</td>\n",
       "    </tr>\n",
       "    <tr>\n",
       "      <th>2</th>\n",
       "      <td>0</td>\n",
       "      <td>0</td>\n",
       "      <td>0</td>\n",
       "      <td>0</td>\n",
       "      <td>1</td>\n",
       "      <td>1</td>\n",
       "      <td>0</td>\n",
       "      <td>0</td>\n",
       "      <td>1</td>\n",
       "      <td>0</td>\n",
       "      <td>...</td>\n",
       "      <td>0</td>\n",
       "      <td>0</td>\n",
       "      <td>0</td>\n",
       "      <td>0</td>\n",
       "      <td>0</td>\n",
       "      <td>0</td>\n",
       "      <td>1</td>\n",
       "      <td>1</td>\n",
       "      <td>0</td>\n",
       "      <td>0</td>\n",
       "    </tr>\n",
       "    <tr>\n",
       "      <th>3</th>\n",
       "      <td>1</td>\n",
       "      <td>0</td>\n",
       "      <td>0</td>\n",
       "      <td>0</td>\n",
       "      <td>0</td>\n",
       "      <td>0</td>\n",
       "      <td>0</td>\n",
       "      <td>0</td>\n",
       "      <td>0</td>\n",
       "      <td>0</td>\n",
       "      <td>...</td>\n",
       "      <td>0</td>\n",
       "      <td>0</td>\n",
       "      <td>0</td>\n",
       "      <td>0</td>\n",
       "      <td>0</td>\n",
       "      <td>0</td>\n",
       "      <td>0</td>\n",
       "      <td>1</td>\n",
       "      <td>0</td>\n",
       "      <td>0</td>\n",
       "    </tr>\n",
       "    <tr>\n",
       "      <th>4</th>\n",
       "      <td>1</td>\n",
       "      <td>0</td>\n",
       "      <td>0</td>\n",
       "      <td>1</td>\n",
       "      <td>0</td>\n",
       "      <td>1</td>\n",
       "      <td>0</td>\n",
       "      <td>0</td>\n",
       "      <td>0</td>\n",
       "      <td>0</td>\n",
       "      <td>...</td>\n",
       "      <td>0</td>\n",
       "      <td>1</td>\n",
       "      <td>1</td>\n",
       "      <td>0</td>\n",
       "      <td>0</td>\n",
       "      <td>0</td>\n",
       "      <td>1</td>\n",
       "      <td>0</td>\n",
       "      <td>1</td>\n",
       "      <td>0</td>\n",
       "    </tr>\n",
       "    <tr>\n",
       "      <th>...</th>\n",
       "      <td>...</td>\n",
       "      <td>...</td>\n",
       "      <td>...</td>\n",
       "      <td>...</td>\n",
       "      <td>...</td>\n",
       "      <td>...</td>\n",
       "      <td>...</td>\n",
       "      <td>...</td>\n",
       "      <td>...</td>\n",
       "      <td>...</td>\n",
       "      <td>...</td>\n",
       "      <td>...</td>\n",
       "      <td>...</td>\n",
       "      <td>...</td>\n",
       "      <td>...</td>\n",
       "      <td>...</td>\n",
       "      <td>...</td>\n",
       "      <td>...</td>\n",
       "      <td>...</td>\n",
       "      <td>...</td>\n",
       "      <td>...</td>\n",
       "    </tr>\n",
       "    <tr>\n",
       "      <th>9995</th>\n",
       "      <td>0</td>\n",
       "      <td>0</td>\n",
       "      <td>0</td>\n",
       "      <td>0</td>\n",
       "      <td>0</td>\n",
       "      <td>1</td>\n",
       "      <td>0</td>\n",
       "      <td>0</td>\n",
       "      <td>0</td>\n",
       "      <td>0</td>\n",
       "      <td>...</td>\n",
       "      <td>1</td>\n",
       "      <td>0</td>\n",
       "      <td>0</td>\n",
       "      <td>0</td>\n",
       "      <td>0</td>\n",
       "      <td>0</td>\n",
       "      <td>0</td>\n",
       "      <td>0</td>\n",
       "      <td>0</td>\n",
       "      <td>0</td>\n",
       "    </tr>\n",
       "    <tr>\n",
       "      <th>9996</th>\n",
       "      <td>0</td>\n",
       "      <td>0</td>\n",
       "      <td>0</td>\n",
       "      <td>0</td>\n",
       "      <td>0</td>\n",
       "      <td>1</td>\n",
       "      <td>0</td>\n",
       "      <td>1</td>\n",
       "      <td>0</td>\n",
       "      <td>0</td>\n",
       "      <td>...</td>\n",
       "      <td>0</td>\n",
       "      <td>0</td>\n",
       "      <td>1</td>\n",
       "      <td>0</td>\n",
       "      <td>0</td>\n",
       "      <td>0</td>\n",
       "      <td>1</td>\n",
       "      <td>1</td>\n",
       "      <td>1</td>\n",
       "      <td>0</td>\n",
       "    </tr>\n",
       "    <tr>\n",
       "      <th>9997</th>\n",
       "      <td>1</td>\n",
       "      <td>1</td>\n",
       "      <td>1</td>\n",
       "      <td>0</td>\n",
       "      <td>0</td>\n",
       "      <td>0</td>\n",
       "      <td>0</td>\n",
       "      <td>1</td>\n",
       "      <td>0</td>\n",
       "      <td>0</td>\n",
       "      <td>...</td>\n",
       "      <td>0</td>\n",
       "      <td>0</td>\n",
       "      <td>0</td>\n",
       "      <td>0</td>\n",
       "      <td>0</td>\n",
       "      <td>0</td>\n",
       "      <td>1</td>\n",
       "      <td>0</td>\n",
       "      <td>0</td>\n",
       "      <td>0</td>\n",
       "    </tr>\n",
       "    <tr>\n",
       "      <th>9998</th>\n",
       "      <td>0</td>\n",
       "      <td>0</td>\n",
       "      <td>0</td>\n",
       "      <td>0</td>\n",
       "      <td>0</td>\n",
       "      <td>0</td>\n",
       "      <td>0</td>\n",
       "      <td>0</td>\n",
       "      <td>0</td>\n",
       "      <td>0</td>\n",
       "      <td>...</td>\n",
       "      <td>0</td>\n",
       "      <td>0</td>\n",
       "      <td>0</td>\n",
       "      <td>0</td>\n",
       "      <td>0</td>\n",
       "      <td>0</td>\n",
       "      <td>1</td>\n",
       "      <td>0</td>\n",
       "      <td>0</td>\n",
       "      <td>0</td>\n",
       "    </tr>\n",
       "    <tr>\n",
       "      <th>9999</th>\n",
       "      <td>1</td>\n",
       "      <td>0</td>\n",
       "      <td>0</td>\n",
       "      <td>0</td>\n",
       "      <td>0</td>\n",
       "      <td>1</td>\n",
       "      <td>0</td>\n",
       "      <td>0</td>\n",
       "      <td>1</td>\n",
       "      <td>0</td>\n",
       "      <td>...</td>\n",
       "      <td>0</td>\n",
       "      <td>0</td>\n",
       "      <td>0</td>\n",
       "      <td>0</td>\n",
       "      <td>0</td>\n",
       "      <td>0</td>\n",
       "      <td>0</td>\n",
       "      <td>0</td>\n",
       "      <td>0</td>\n",
       "      <td>0</td>\n",
       "    </tr>\n",
       "  </tbody>\n",
       "</table>\n",
       "<p>10000 rows × 1000 columns</p>\n",
       "</div>"
      ],
      "text/plain": [
       "      10  20  30  80  able  about  above  absolutely  across  act  ...  wrong  \\\n",
       "0      0   0   0   0     0      1      0           0       0    1  ...      0   \n",
       "1      0   0   0   0     0      0      0           0       0    0  ...      0   \n",
       "2      0   0   0   0     1      1      0           0       1    0  ...      0   \n",
       "3      1   0   0   0     0      0      0           0       0    0  ...      0   \n",
       "4      1   0   0   1     0      1      0           0       0    0  ...      0   \n",
       "...   ..  ..  ..  ..   ...    ...    ...         ...     ...  ...  ...    ...   \n",
       "9995   0   0   0   0     0      1      0           0       0    0  ...      1   \n",
       "9996   0   0   0   0     0      1      0           1       0    0  ...      0   \n",
       "9997   1   1   1   0     0      0      0           1       0    0  ...      0   \n",
       "9998   0   0   0   0     0      0      0           0       0    0  ...      0   \n",
       "9999   1   0   0   0     0      1      0           0       1    0  ...      0   \n",
       "\n",
       "      year  years  yes  yet  york  you  young  your  yourself  \n",
       "0        1      0    0    0     0    0      0     1         0  \n",
       "1        0      1    0    0     0    0      0     0         0  \n",
       "2        0      0    0    0     0    1      1     0         0  \n",
       "3        0      0    0    0     0    0      1     0         0  \n",
       "4        1      1    0    0     0    1      0     1         0  \n",
       "...    ...    ...  ...  ...   ...  ...    ...   ...       ...  \n",
       "9995     0      0    0    0     0    0      0     0         0  \n",
       "9996     0      1    0    0     0    1      1     1         0  \n",
       "9997     0      0    0    0     0    1      0     0         0  \n",
       "9998     0      0    0    0     0    1      0     0         0  \n",
       "9999     0      0    0    0     0    0      0     0         0  \n",
       "\n",
       "[10000 rows x 1000 columns]"
      ]
     },
     "execution_count": 141,
     "metadata": {},
     "output_type": "execute_result"
    }
   ],
   "source": [
    "data_df = pd.DataFrame(data=X.toarray(), columns=vec.get_feature_names())\n",
    "data_df"
   ]
  },
  {
   "cell_type": "markdown",
   "metadata": {},
   "source": [
    "Ok, now we split the data..."
   ]
  },
  {
   "cell_type": "code",
   "execution_count": 22,
   "metadata": {},
   "outputs": [],
   "source": [
    "X_train_imdb, X_test_imdb, y_train_imdb, y_test_imdb = train_test_split(X, \n",
    "                                                                        imdb_df['label'], \n",
    "                                                                        test_size = 0.20, \n",
    "                                                                        random_state = 12)"
   ]
  },
  {
   "cell_type": "markdown",
   "metadata": {},
   "source": [
    "Ok, this seems reasonable. Are we all good?\n",
    "\n",
    "<br><br><br><br><br><br>"
   ]
  },
  {
   "cell_type": "markdown",
   "metadata": {},
   "source": [
    "### NO!!\n",
    "\n",
    "- We violated the Golden Rule!\n",
    "- I told you it could be sneaky.\n",
    "- What happened? Well, the test data influenced how we preprocessed the training data:\n",
    "  - We used it to determine which words were the top words.\n",
    "  - In fact, some of our features might be words that don't even appear in the training set!!\n",
    "  - Thus, **the test error is no longer an accurate measure of how our model generalizes to unsees data**."
   ]
  },
  {
   "cell_type": "markdown",
   "metadata": {},
   "source": [
    "## The \"Golden Rule\"\n",
    "\n",
    "- Previously, we used our validation set to inform our choice of the least overfit model.\n",
    "- Is this okay? It can be, if we don't do this too many times.\n",
    "- If we use it too many times, we suffer from \"optimization bias\".\n",
    "- We've been talking about 2 sets, but there are often 3:\n",
    "    - Training: used to learn the model\n",
    "    - Validation: used to tune the model (e.g., hyperparameters)\n",
    "    - Test: used to evaluate the model (lock it in a \"vault\" until you're ready to evaluate)\n",
    "    - e.g., see [here](https://towardsdatascience.com/train-validation-and-test-sets-72cb40cba9e7)."
   ]
  },
  {
   "cell_type": "markdown",
   "metadata": {},
   "source": [
    "- The \"golden rule\" is that we need to be extremely vigilant about what data is being used for what.\n",
    "- A test set should only be used \"once\".  \n",
    "  - Even if only used once, it won't be a perfect representation of deployment error:\n",
    "\n",
    "1. Bad luck (which gets worse if it's a smaller set of data)\n",
    "2. The deployment data comes from a different distribution\n",
    "3. And if it's used more than once, then you have another problem, which is that it influenced training and is no longer \"unseen data\".\n",
    "\n",
    "Avoid this 3rd issue! The other two are bad enough."
   ]
  },
  {
   "cell_type": "markdown",
   "metadata": {},
   "source": [
    "Back to our dataset. We need to start over..."
   ]
  },
  {
   "cell_type": "code",
   "execution_count": 23,
   "metadata": {},
   "outputs": [],
   "source": [
    "# Just to be safe\n",
    "imdb_df = pd.read_csv('data/imdb_master.csv', index_col=0, encoding=\"ISO-8859-1\")\n",
    "imdb_df = imdb_df[imdb_df['label'].str.startswith(('pos','neg'))]\n",
    "imdb_df = imdb_df.sample(frac=0.2, random_state=999)"
   ]
  },
  {
   "cell_type": "code",
   "execution_count": 24,
   "metadata": {},
   "outputs": [],
   "source": [
    "# STEP 1\n",
    "X_train_imdb_raw, X_test_imdb_raw, y_train_imdb, y_test_imdb = train_test_split(imdb_df['review'], \n",
    "                                                                                imdb_df['label'], \n",
    "                                                                                test_size = 0.20, \n",
    "                                                                                random_state = 12)"
   ]
  },
  {
   "cell_type": "code",
   "execution_count": 44,
   "metadata": {},
   "outputs": [],
   "source": [
    "vec = CountVectorizer(min_df=50)"
   ]
  },
  {
   "cell_type": "code",
   "execution_count": 45,
   "metadata": {},
   "outputs": [],
   "source": [
    "vec.fit(X_train_imdb_raw);"
   ]
  },
  {
   "cell_type": "code",
   "execution_count": 46,
   "metadata": {},
   "outputs": [],
   "source": [
    "X_train_imdb = vec.transform(X_train_imdb_raw)"
   ]
  },
  {
   "cell_type": "code",
   "execution_count": 47,
   "metadata": {},
   "outputs": [],
   "source": [
    "vec.fit(X_test_imdb_raw);"
   ]
  },
  {
   "cell_type": "code",
   "execution_count": 48,
   "metadata": {},
   "outputs": [],
   "source": [
    "X_test_imdb = vec.transform(X_test_imdb_raw);"
   ]
  },
  {
   "cell_type": "markdown",
   "metadata": {},
   "source": [
    "Now surely we're all good, right?\n",
    "\n",
    "<br><br><br><br><br><br>"
   ]
  },
  {
   "cell_type": "markdown",
   "metadata": {},
   "source": [
    "### NOPE"
   ]
  },
  {
   "cell_type": "code",
   "execution_count": 49,
   "metadata": {},
   "outputs": [],
   "source": [
    "dt = DecisionTreeClassifier()"
   ]
  },
  {
   "cell_type": "code",
   "execution_count": 50,
   "metadata": {},
   "outputs": [],
   "source": [
    "dt.fit(X_train_imdb, y_train_imdb);"
   ]
  },
  {
   "cell_type": "code",
   "execution_count": 51,
   "metadata": {},
   "outputs": [
    {
     "ename": "ValueError",
     "evalue": "Number of features of the model must match the input. Model n_features is 2699 and input n_features is 835 ",
     "output_type": "error",
     "traceback": [
      "\u001b[0;31m---------------------------------------------------------------------------\u001b[0m",
      "\u001b[0;31mValueError\u001b[0m                                Traceback (most recent call last)",
      "\u001b[0;32m<ipython-input-51-7a5c6356b78e>\u001b[0m in \u001b[0;36m<module>\u001b[0;34m\u001b[0m\n\u001b[0;32m----> 1\u001b[0;31m \u001b[0mdt\u001b[0m\u001b[0;34m.\u001b[0m\u001b[0mpredict\u001b[0m\u001b[0;34m(\u001b[0m\u001b[0mX_test_imdb\u001b[0m\u001b[0;34m)\u001b[0m\u001b[0;34m\u001b[0m\u001b[0;34m\u001b[0m\u001b[0m\n\u001b[0m",
      "\u001b[0;32m~/anaconda3/lib/python3.7/site-packages/sklearn/tree/tree.py\u001b[0m in \u001b[0;36mpredict\u001b[0;34m(self, X, check_input)\u001b[0m\n\u001b[1;32m    428\u001b[0m         \"\"\"\n\u001b[1;32m    429\u001b[0m         \u001b[0mcheck_is_fitted\u001b[0m\u001b[0;34m(\u001b[0m\u001b[0mself\u001b[0m\u001b[0;34m,\u001b[0m \u001b[0;34m'tree_'\u001b[0m\u001b[0;34m)\u001b[0m\u001b[0;34m\u001b[0m\u001b[0;34m\u001b[0m\u001b[0m\n\u001b[0;32m--> 430\u001b[0;31m         \u001b[0mX\u001b[0m \u001b[0;34m=\u001b[0m \u001b[0mself\u001b[0m\u001b[0;34m.\u001b[0m\u001b[0m_validate_X_predict\u001b[0m\u001b[0;34m(\u001b[0m\u001b[0mX\u001b[0m\u001b[0;34m,\u001b[0m \u001b[0mcheck_input\u001b[0m\u001b[0;34m)\u001b[0m\u001b[0;34m\u001b[0m\u001b[0;34m\u001b[0m\u001b[0m\n\u001b[0m\u001b[1;32m    431\u001b[0m         \u001b[0mproba\u001b[0m \u001b[0;34m=\u001b[0m \u001b[0mself\u001b[0m\u001b[0;34m.\u001b[0m\u001b[0mtree_\u001b[0m\u001b[0;34m.\u001b[0m\u001b[0mpredict\u001b[0m\u001b[0;34m(\u001b[0m\u001b[0mX\u001b[0m\u001b[0;34m)\u001b[0m\u001b[0;34m\u001b[0m\u001b[0;34m\u001b[0m\u001b[0m\n\u001b[1;32m    432\u001b[0m         \u001b[0mn_samples\u001b[0m \u001b[0;34m=\u001b[0m \u001b[0mX\u001b[0m\u001b[0;34m.\u001b[0m\u001b[0mshape\u001b[0m\u001b[0;34m[\u001b[0m\u001b[0;36m0\u001b[0m\u001b[0;34m]\u001b[0m\u001b[0;34m\u001b[0m\u001b[0;34m\u001b[0m\u001b[0m\n",
      "\u001b[0;32m~/anaconda3/lib/python3.7/site-packages/sklearn/tree/tree.py\u001b[0m in \u001b[0;36m_validate_X_predict\u001b[0;34m(self, X, check_input)\u001b[0m\n\u001b[1;32m    400\u001b[0m                              \u001b[0;34m\"match the input. Model n_features is %s and \"\u001b[0m\u001b[0;34m\u001b[0m\u001b[0;34m\u001b[0m\u001b[0m\n\u001b[1;32m    401\u001b[0m                              \u001b[0;34m\"input n_features is %s \"\u001b[0m\u001b[0;34m\u001b[0m\u001b[0;34m\u001b[0m\u001b[0m\n\u001b[0;32m--> 402\u001b[0;31m                              % (self.n_features_, n_features))\n\u001b[0m\u001b[1;32m    403\u001b[0m \u001b[0;34m\u001b[0m\u001b[0m\n\u001b[1;32m    404\u001b[0m         \u001b[0;32mreturn\u001b[0m \u001b[0mX\u001b[0m\u001b[0;34m\u001b[0m\u001b[0;34m\u001b[0m\u001b[0m\n",
      "\u001b[0;31mValueError\u001b[0m: Number of features of the model must match the input. Model n_features is 2699 and input n_features is 835 "
     ]
    }
   ],
   "source": [
    "dt.predict(X_test_imdb)"
   ]
  },
  {
   "cell_type": "code",
   "execution_count": 33,
   "metadata": {},
   "outputs": [
    {
     "data": {
      "text/plain": [
       "(8000, 2699)"
      ]
     },
     "execution_count": 33,
     "metadata": {},
     "output_type": "execute_result"
    }
   ],
   "source": [
    "X_train_imdb.shape"
   ]
  },
  {
   "cell_type": "code",
   "execution_count": 34,
   "metadata": {},
   "outputs": [
    {
     "data": {
      "text/plain": [
       "(2000, 835)"
      ]
     },
     "execution_count": 34,
     "metadata": {},
     "output_type": "execute_result"
    }
   ],
   "source": [
    "X_test_imdb.shape"
   ]
  },
  {
   "cell_type": "markdown",
   "metadata": {},
   "source": [
    "- What happened here?\n",
    "- We fit the transformer on the training data, and transformed.\n",
    "- Then we fit the transformer on the test data, and transformed.\n",
    "- Now our data set makes no sense - we have a different number of columns in our train/test set!\n",
    "- So, for example, the decision tree will split on a word \"amazing\", which is feature 2000, but then when we predict, we don't even have that feature!\n",
    "- This is not a Golden Rule issue, it's just a preprocessing failure.\n",
    "  - But note how the Golden Rule issue is harder to catch, because there's no Python error message."
   ]
  },
  {
   "cell_type": "markdown",
   "metadata": {},
   "source": [
    "In fact, if we had used `max_features` instead of `min_df` we wouldn't have even gotten a Python error message! See below:"
   ]
  },
  {
   "cell_type": "code",
   "execution_count": 112,
   "metadata": {},
   "outputs": [],
   "source": [
    "vec = CountVectorizer(max_features=1000)"
   ]
  },
  {
   "cell_type": "code",
   "execution_count": 113,
   "metadata": {},
   "outputs": [],
   "source": [
    "vec.fit(X_train_imdb_raw);"
   ]
  },
  {
   "cell_type": "code",
   "execution_count": 114,
   "metadata": {},
   "outputs": [
    {
     "data": {
      "text/plain": [
       "['10',\n",
       " '20',\n",
       " '30',\n",
       " '80',\n",
       " 'able',\n",
       " 'about',\n",
       " 'above',\n",
       " 'absolutely',\n",
       " 'across',\n",
       " 'act']"
      ]
     },
     "execution_count": 114,
     "metadata": {},
     "output_type": "execute_result"
    }
   ],
   "source": [
    "vec.get_feature_names()[:10]"
   ]
  },
  {
   "cell_type": "code",
   "execution_count": 115,
   "metadata": {},
   "outputs": [],
   "source": [
    "X_train_imdb = vec.transform(X_train_imdb_raw)"
   ]
  },
  {
   "cell_type": "code",
   "execution_count": 116,
   "metadata": {},
   "outputs": [],
   "source": [
    "vec.fit(X_test_imdb_raw);"
   ]
  },
  {
   "cell_type": "code",
   "execution_count": 117,
   "metadata": {},
   "outputs": [
    {
     "data": {
      "text/plain": [
       "['10',\n",
       " '20',\n",
       " 'able',\n",
       " 'about',\n",
       " 'above',\n",
       " 'absolutely',\n",
       " 'across',\n",
       " 'act',\n",
       " 'acted',\n",
       " 'acting']"
      ]
     },
     "execution_count": 117,
     "metadata": {},
     "output_type": "execute_result"
    }
   ],
   "source": [
    "vec.get_feature_names()[:10]"
   ]
  },
  {
   "cell_type": "code",
   "execution_count": 118,
   "metadata": {},
   "outputs": [],
   "source": [
    "X_test_imdb = vec.transform(X_test_imdb_raw);"
   ]
  },
  {
   "cell_type": "code",
   "execution_count": 119,
   "metadata": {},
   "outputs": [],
   "source": [
    "dt = DecisionTreeClassifier()"
   ]
  },
  {
   "cell_type": "code",
   "execution_count": 120,
   "metadata": {},
   "outputs": [],
   "source": [
    "dt.fit(X_train_imdb, y_train_imdb);"
   ]
  },
  {
   "cell_type": "code",
   "execution_count": 121,
   "metadata": {},
   "outputs": [
    {
     "data": {
      "text/plain": [
       "array(['neg', 'pos', 'pos', ..., 'neg', 'neg', 'neg'], dtype=object)"
      ]
     },
     "execution_count": 121,
     "metadata": {},
     "output_type": "execute_result"
    }
   ],
   "source": [
    "dt.predict(X_test_imdb)"
   ]
  },
  {
   "cell_type": "markdown",
   "metadata": {},
   "source": [
    "- Note: no error message.\n",
    "- The problem is that the coefficients correspond to the **order** of the features, so the results will be completely invalid."
   ]
  },
  {
   "cell_type": "markdown",
   "metadata": {},
   "source": [
    "#### Attempt 3 (I promise it will be OK this time)"
   ]
  },
  {
   "cell_type": "code",
   "execution_count": 33,
   "metadata": {},
   "outputs": [],
   "source": [
    "# Just to be safe\n",
    "imdb_df = pd.read_csv('data/imdb_master.csv', index_col=0, encoding=\"ISO-8859-1\")\n",
    "imdb_df = imdb_df[imdb_df['label'].str.startswith(('pos','neg'))]\n",
    "imdb_df = imdb_df.sample(frac=0.2, random_state=999)"
   ]
  },
  {
   "cell_type": "code",
   "execution_count": 34,
   "metadata": {},
   "outputs": [],
   "source": [
    "# STEP 1\n",
    "X_train_imdb_raw, X_test_imdb_raw, y_train_imdb, y_test_imdb = train_test_split(imdb_df['review'], \n",
    "                                                                                imdb_df['label'], \n",
    "                                                                                test_size = 0.20, \n",
    "                                                                                random_state = 12)"
   ]
  },
  {
   "cell_type": "code",
   "execution_count": 37,
   "metadata": {},
   "outputs": [],
   "source": [
    "vec = CountVectorizer(min_df=50, binary=True)"
   ]
  },
  {
   "cell_type": "markdown",
   "metadata": {},
   "source": [
    "I am setting `binary=True` which gives just 1 or 0 for the features (word is present or absent); by default it _counts_ the number of occurrences of the word. I am using binary to be consistent with the motivating example at the start of class."
   ]
  },
  {
   "cell_type": "code",
   "execution_count": 38,
   "metadata": {},
   "outputs": [],
   "source": [
    "vec.fit(X_train_imdb_raw);"
   ]
  },
  {
   "cell_type": "code",
   "execution_count": 39,
   "metadata": {},
   "outputs": [],
   "source": [
    "X_train_imdb = vec.transform(X_train_imdb_raw)"
   ]
  },
  {
   "cell_type": "markdown",
   "metadata": {},
   "source": [
    "We do not want this next line!!!"
   ]
  },
  {
   "cell_type": "code",
   "execution_count": 40,
   "metadata": {},
   "outputs": [],
   "source": [
    "# vec.fit(X_test_imdb_raw);"
   ]
  },
  {
   "cell_type": "markdown",
   "metadata": {},
   "source": [
    "We transform the test data with the transformer _fit on the training data_!!"
   ]
  },
  {
   "cell_type": "code",
   "execution_count": 41,
   "metadata": {},
   "outputs": [],
   "source": [
    "X_test_imdb = vec.transform(X_test_imdb_raw);"
   ]
  },
  {
   "cell_type": "markdown",
   "metadata": {},
   "source": [
    "Ok, let's give this a try:"
   ]
  },
  {
   "cell_type": "code",
   "execution_count": 58,
   "metadata": {},
   "outputs": [],
   "source": [
    "dt = DecisionTreeClassifier()\n",
    "dt.fit(X_train_imdb, y_train_imdb);"
   ]
  },
  {
   "cell_type": "code",
   "execution_count": 59,
   "metadata": {},
   "outputs": [
    {
     "name": "stdout",
     "output_type": "stream",
     "text": [
      "Training error:   0.00\n",
      "Validation error: 0.32\n"
     ]
    }
   ],
   "source": [
    "show_scores(dt, X_train_imdb, y_train_imdb, X_test_imdb, y_test_imdb)"
   ]
  },
  {
   "cell_type": "code",
   "execution_count": null,
   "metadata": {},
   "outputs": [],
   "source": []
  },
  {
   "cell_type": "code",
   "execution_count": null,
   "metadata": {},
   "outputs": [],
   "source": []
  },
  {
   "cell_type": "code",
   "execution_count": null,
   "metadata": {},
   "outputs": [],
   "source": []
  },
  {
   "cell_type": "markdown",
   "metadata": {},
   "source": [
    "## Break (5 min)\n",
    "\n",
    "If you haven't already, please take a moment to fill out the new survey on [Canvas](https://canvas.ubc.ca/courses/36014)."
   ]
  },
  {
   "cell_type": "markdown",
   "metadata": {
    "slideshow": {
     "slide_type": "slide"
    }
   },
   "source": [
    "## Logistic regression: `predict_proba` (10 min)"
   ]
  },
  {
   "cell_type": "code",
   "execution_count": 77,
   "metadata": {
    "slideshow": {
     "slide_type": "slide"
    }
   },
   "outputs": [
    {
     "name": "stderr",
     "output_type": "stream",
     "text": [
      "/Users/mgelbart/anaconda3/lib/python3.7/site-packages/sklearn/linear_model/logistic.py:432: FutureWarning: Default solver will be changed to 'lbfgs' in 0.22. Specify a solver to silence this warning.\n",
      "  FutureWarning)\n"
     ]
    },
    {
     "name": "stdout",
     "output_type": "stream",
     "text": [
      "Training error:   0.02\n",
      "Validation error: 0.16\n"
     ]
    }
   ],
   "source": [
    "lr = LogisticRegression()\n",
    "lr.fit(X_train_imdb, y_train_imdb)\n",
    "show_scores(lr, X_train_imdb, y_train_imdb, X_test_imdb, y_test_imdb) "
   ]
  },
  {
   "cell_type": "markdown",
   "metadata": {},
   "source": [
    "Cool, we got a better validation error this way!"
   ]
  },
  {
   "cell_type": "markdown",
   "metadata": {
    "slideshow": {
     "slide_type": "slide"
    }
   },
   "source": [
    "#### Predicting probabilities\n",
    "\n",
    "- Logistic regression seems to do fairly well on this task.\n",
    "- Furthermore, we have a new and useful method, `predict_proba`.\n",
    "- `predict` returns the class with the highest probability.\n",
    "- Can we find the reviews where our classifier is most confident or least confident?\n",
    "- How about reviews where the classifier is not very confident? "
   ]
  },
  {
   "cell_type": "code",
   "execution_count": 79,
   "metadata": {
    "scrolled": true,
    "slideshow": {
     "slide_type": "slide"
    }
   },
   "outputs": [
    {
     "data": {
      "text/plain": [
       "array([[8.59914292e-01, 1.40085708e-01],\n",
       "       [5.27906505e-01, 4.72093495e-01],\n",
       "       [4.26982364e-04, 9.99573018e-01],\n",
       "       ...,\n",
       "       [3.22773733e-03, 9.96772263e-01],\n",
       "       [9.99998415e-01, 1.58464586e-06],\n",
       "       [9.99949271e-01, 5.07293877e-05]])"
      ]
     },
     "execution_count": 79,
     "metadata": {},
     "output_type": "execute_result"
    }
   ],
   "source": [
    "# predict_proba\n",
    "probs = lr.predict_proba(X_test_imdb)\n",
    "probs"
   ]
  },
  {
   "cell_type": "code",
   "execution_count": 80,
   "metadata": {},
   "outputs": [
    {
     "data": {
      "text/plain": [
       "(2000, 2)"
      ]
     },
     "execution_count": 80,
     "metadata": {},
     "output_type": "execute_result"
    }
   ],
   "source": [
    "probs.shape"
   ]
  },
  {
   "cell_type": "markdown",
   "metadata": {},
   "source": [
    "- It gives two columns, the probability of class 0 and the probability of class 1. \n",
    "- We only really care about one of them, since they add to 1. Let's take the second column:"
   ]
  },
  {
   "cell_type": "code",
   "execution_count": 81,
   "metadata": {},
   "outputs": [
    {
     "data": {
      "text/plain": [
       "array([1.40085708e-01, 4.72093495e-01, 9.99573018e-01, ...,\n",
       "       9.96772263e-01, 1.58464586e-06, 5.07293877e-05])"
      ]
     },
     "execution_count": 81,
     "metadata": {},
     "output_type": "execute_result"
    }
   ],
   "source": [
    "lr.predict_proba(X_test_imdb)[:,1]"
   ]
  },
  {
   "cell_type": "markdown",
   "metadata": {},
   "source": [
    "What's the most positive and most negative review according to our classifier?  \n"
   ]
  },
  {
   "cell_type": "code",
   "execution_count": 82,
   "metadata": {},
   "outputs": [
    {
     "data": {
      "text/plain": [
       "0.9999999999915541"
      ]
     },
     "execution_count": 82,
     "metadata": {},
     "output_type": "execute_result"
    }
   ],
   "source": [
    "np.max(lr.predict_proba(X_test_imdb)[:,1])"
   ]
  },
  {
   "cell_type": "markdown",
   "metadata": {},
   "source": [
    "Wow! Let's find that review:"
   ]
  },
  {
   "cell_type": "code",
   "execution_count": 83,
   "metadata": {},
   "outputs": [
    {
     "data": {
      "text/plain": [
       "1189"
      ]
     },
     "execution_count": 83,
     "metadata": {},
     "output_type": "execute_result"
    }
   ],
   "source": [
    "most_positive_ind = np.argmax(lr.predict_proba(X_test_imdb)[:,1])\n",
    "most_positive_ind"
   ]
  },
  {
   "cell_type": "code",
   "execution_count": 84,
   "metadata": {},
   "outputs": [
    {
     "name": "stdout",
     "output_type": "stream",
     "text": [
      "Sri Lanka... not a country I've ever given much thought to, I have to admit. I didn't even know it was near India, let alone that there has been a bloody civil war going on there since 1983. It seems that the rebels of the Tamil minority have been in an ongoing conflict with the military regime that runs the country for many years, causing many deaths and widespread suffering on the island.<br /><br />Mani Ratman's latest film, A PECK ON THE CHEEK, tells the story of a young girl named Amudha, who is separated from her Sri Lankan parents by the war and raised by a young Indian couple. Amudha is a bright and mischievous girl, whose life is turned upside down when her parents tell her that she was adopted as a child. Although her adopted parents love her as much as could be, and have raised her without prejudice along with their biological children, Amudha cannot help but want to learn more about her biological family.<br /><br />Mani Ratman is probably best known for his 1998 film DIL SE, which hides a story about terrorism and politics inside a love story (or is it the other way around?). A PECK ON THE CHEEK inhabits similar territory, but is perhaps more ambitious in the ground it covers. The central theme that binds the movie is of love between all the various members of a family, and especially that between a child and her adopted parents. It's a pretty honest and open look at feelings, that can be extremely touching and heartwarming at some times and quite painful at others. It's an emotionally complex film, with characters that are somewhat idealised but still behave in a very human way.<br /><br />The film revolves around 9 year old Amudha, played with charm and vivaciousness by young actress P.S. Keerthana in her first and only acting role. She's a princess and a monster, always getting into trouble but so disarmingly charming nobody can stay mad at her for long. The young actress is perfectly cast for the role, and does a tremendous job in the various and often difficult emotional scenes required of her.<br /><br />A PECK ON THE CHEEK has such an innocent name I was quite unprepared for the intensity of the experience. Never has such a small act come with such an enormous emotional impact, I dare say. The film is a bold and artistic effort to explore issues that are not frequently covered on the silver screen.<br /><br />Mani Ratman's direction is superb, very confident and mature - the most sophisticated work I've seen from this director yet. The film is visually very stylish, with some excellent camerawork and imagery. A.R. Rahman provides the film's soundtrack, which is not as good as his classic DIL SE or BOMBAY music (based on first impressions at least) but still shows his great musical talent.<br /><br />I'm not aware of a DVD release for the film yet - I saw it in Tamil with English subtitles thanks to the San Francisco International Film Festival, of which the film was undoubtedly the highlight. The production is a truly world class effort, and I am sure it will be popular with western audiences as it begins to receive wider exposure.<br /><br />Recommended.\n"
     ]
    }
   ],
   "source": [
    "print(X_test_imdb_raw.iloc[most_positive_ind])"
   ]
  },
  {
   "cell_type": "markdown",
   "metadata": {},
   "source": [
    "Most negative review:"
   ]
  },
  {
   "cell_type": "code",
   "execution_count": 85,
   "metadata": {},
   "outputs": [
    {
     "data": {
      "text/plain": [
       "315"
      ]
     },
     "execution_count": 85,
     "metadata": {},
     "output_type": "execute_result"
    }
   ],
   "source": [
    "most_negative_ind = np.argmax(lr.predict_proba(X_test_imdb)[:,0])\n",
    "most_negative_ind"
   ]
  },
  {
   "cell_type": "code",
   "execution_count": 86,
   "metadata": {},
   "outputs": [
    {
     "name": "stdout",
     "output_type": "stream",
     "text": [
      "Serum starts as Eddie (Derek Phillips) is delighted to learn he has been accepted into medical school to carry on the family tradition of becoming an MD like his father Richard (Dennis O'Neill) & his uncle Eddie (David H. Hickey), however his joy could be short lived as Eddie is involved in an accident & is run over by a car. Taken to the nearest hospital it doesn't look good for poor Eddie so his uncle Eddie convinces his brother Richard to let him save Eddie with the serum he has developed, a serum which will give the recipient the power to self heal any sort of wound or illness. Desperate for his boy to live Richard agrees but the procedure has unwanted side effects like turning Eddie into a brain eating zombie which is just not a good thing...<br /><br />Executive produced, written & directed by Steve Franke I'll be perfectly frank myself & say Serum is awful, Serum is one of those no budget horror films which tries to rip-off other any number of other's & ends up being slightly more fun than having you fingernails pulled out with pliers. The script is terrible, it has the whole Re-Animator (1985) feel to it with mad scientists wielding huge syringes trying to eradicate death but it's so boring it's untrue, the first forty minutes is nothing more than a really dull soap opera that amounts to nothing expect to pad the running time out with Eddie arriving home after spending some time away & finding his ex-girlfriend has hooked up with someone else, arguments with his step-mom, getting drunk with his mate & generally boring the audience stiff. So, once the tedium of the first forty minutes is over & if your still watching it it takes another twenty minutes to get Eddie re-animated & then he kills a couple of people, police catch up with him & shoot him, the end. Thank god. Serum is devoid of any of the characteristic's that one would associate with a good film, the character's suck, the dialogue is poor, it takes itself far too seriously, it's dull, it's slow, it's forgettable & considering it's meant to be a horror film there's an alarming lack of blood, gore or horror. Not recommended, did I mention Serum was boring? I thought so.<br /><br />Director Franke does nothing to liven this thing up, although competent there's no style here at all. The gore levels are none existent, there's a bit of splashed blood, a bitten neck, a couple of scars on a dead woman's face, a couple of scenes where a needle pierces skin & that's it. Don't expect a Re-Animator in the gore department because if you do your going to be sorely disappointed, much like I was in fact. Filmed in what looks like one house, one restaurant & a lab the film has no variety either & just looks cheap throughout. There's a couple of scenes of nudity but that's nowhere near enough to save it.<br /><br />Technically the film isn't too bad, at least it looks like proper cameras were used, I can't really comment on the special effects because there aren't any but generally speaking Serum looks reasonably professional. Apparently shot in Texas, or should that read it should have literally been shot in Texas? The acting sucks although again I think they were proper actor's rather than friends or family of the director.<br /><br />Serum is a terrible film, it's dull, slow, boring, has no gore & feels like a horrible soap opera for the first forty minutes. I don't understand why anyone would feel the need to watch this when they can watch Re-Animator or one of it's sequels again instead, seriously I recommend you give Serum a miss. There I've just saved you from wasting 90 minutes of your life, you can thank me later.\n"
     ]
    }
   ],
   "source": [
    "print(X_test_imdb_raw.iloc[most_negative_ind])"
   ]
  },
  {
   "cell_type": "markdown",
   "metadata": {
    "slideshow": {
     "slide_type": "slide"
    }
   },
   "source": [
    "## Logistic regression: coefficients and interpretation (10 min)\n",
    "\n",
    "- One of the primary advantage of linear classifiers is their ability to interpret models. \n",
    "- What features are most useful for prediction? What words are swaying it positive or negative?"
   ]
  },
  {
   "cell_type": "markdown",
   "metadata": {
    "slideshow": {
     "slide_type": "slide"
    }
   },
   "source": [
    "#### Let's find the most informative words for positive and negative reviews \n",
    "\n",
    "- The information you need is exposed by the `coef_` attribute of [LogisticRegression](http://scikit-learn.org/stable/modules/generated/sklearn.linear_model.LogisticRegression.html) object. \n",
    "- The vocabulary (mapping from feature indices to actual words) can be obtained as follows: "
   ]
  },
  {
   "cell_type": "code",
   "execution_count": 87,
   "metadata": {},
   "outputs": [
    {
     "data": {
      "text/plain": [
       "array([[-0.54442233,  0.56953794, -0.07879   , ..., -0.23357516,\n",
       "        -0.43565269, -0.30189978]])"
      ]
     },
     "execution_count": 87,
     "metadata": {},
     "output_type": "execute_result"
    }
   ],
   "source": [
    "lr.coef_"
   ]
  },
  {
   "cell_type": "code",
   "execution_count": 88,
   "metadata": {
    "slideshow": {
     "slide_type": "slide"
    }
   },
   "outputs": [
    {
     "data": {
      "text/plain": [
       "['000',\n",
       " '10',\n",
       " '100',\n",
       " '11',\n",
       " '12',\n",
       " '13',\n",
       " '14',\n",
       " '15',\n",
       " '1950',\n",
       " '1970',\n",
       " '20',\n",
       " '2001',\n",
       " '2005',\n",
       " '25',\n",
       " '30',\n",
       " '40',\n",
       " '50',\n",
       " '60',\n",
       " '70',\n",
       " '70s',\n",
       " '80',\n",
       " '80s',\n",
       " '90',\n",
       " 'abandoned',\n",
       " 'ability',\n",
       " 'able',\n",
       " 'about',\n",
       " 'above',\n",
       " 'absolute',\n",
       " 'absolutely']"
      ]
     },
     "execution_count": 88,
     "metadata": {},
     "output_type": "execute_result"
    }
   ],
   "source": [
    "# Get features (words in our case)\n",
    "vocab = vec.get_feature_names()\n",
    "vocab[:30]"
   ]
  },
  {
   "cell_type": "code",
   "execution_count": 89,
   "metadata": {},
   "outputs": [
    {
     "data": {
      "text/plain": [
       "array([-0.54442233,  0.56953794, -0.07879   , -0.26744046,  0.23499243,\n",
       "        0.01400122,  0.13464958, -0.44682037,  0.24512197, -0.74487161,\n",
       "       -0.13465905,  0.01601938, -0.1729897 ,  0.25179987, -0.18391194,\n",
       "        0.11441062, -0.1438524 ,  0.20293821,  0.18569506, -0.03764818,\n",
       "       -0.12660893, -0.16668699, -0.41461795,  0.52860547, -0.14569557,\n",
       "        0.22471882, -0.10588138,  0.14516093,  0.41565422,  0.09467749])"
      ]
     },
     "execution_count": 89,
     "metadata": {},
     "output_type": "execute_result"
    }
   ],
   "source": [
    "weights = lr.coef_.ravel()\n",
    "weights[:30]"
   ]
  },
  {
   "cell_type": "code",
   "execution_count": 90,
   "metadata": {},
   "outputs": [
    {
     "data": {
      "text/html": [
       "<div>\n",
       "<style scoped>\n",
       "    .dataframe tbody tr th:only-of-type {\n",
       "        vertical-align: middle;\n",
       "    }\n",
       "\n",
       "    .dataframe tbody tr th {\n",
       "        vertical-align: top;\n",
       "    }\n",
       "\n",
       "    .dataframe thead th {\n",
       "        text-align: right;\n",
       "    }\n",
       "</style>\n",
       "<table border=\"1\" class=\"dataframe\">\n",
       "  <thead>\n",
       "    <tr style=\"text-align: right;\">\n",
       "      <th></th>\n",
       "      <th>Weight</th>\n",
       "    </tr>\n",
       "  </thead>\n",
       "  <tbody>\n",
       "    <tr>\n",
       "      <th>000</th>\n",
       "      <td>-0.544422</td>\n",
       "    </tr>\n",
       "    <tr>\n",
       "      <th>10</th>\n",
       "      <td>0.569538</td>\n",
       "    </tr>\n",
       "    <tr>\n",
       "      <th>100</th>\n",
       "      <td>-0.078790</td>\n",
       "    </tr>\n",
       "    <tr>\n",
       "      <th>11</th>\n",
       "      <td>-0.267440</td>\n",
       "    </tr>\n",
       "    <tr>\n",
       "      <th>12</th>\n",
       "      <td>0.234992</td>\n",
       "    </tr>\n",
       "    <tr>\n",
       "      <th>...</th>\n",
       "      <td>...</td>\n",
       "    </tr>\n",
       "    <tr>\n",
       "      <th>yourself</th>\n",
       "      <td>0.067347</td>\n",
       "    </tr>\n",
       "    <tr>\n",
       "      <th>youth</th>\n",
       "      <td>0.108680</td>\n",
       "    </tr>\n",
       "    <tr>\n",
       "      <th>zero</th>\n",
       "      <td>-0.233575</td>\n",
       "    </tr>\n",
       "    <tr>\n",
       "      <th>zombie</th>\n",
       "      <td>-0.435653</td>\n",
       "    </tr>\n",
       "    <tr>\n",
       "      <th>zombies</th>\n",
       "      <td>-0.301900</td>\n",
       "    </tr>\n",
       "  </tbody>\n",
       "</table>\n",
       "<p>2699 rows × 1 columns</p>\n",
       "</div>"
      ],
      "text/plain": [
       "            Weight\n",
       "000      -0.544422\n",
       "10        0.569538\n",
       "100      -0.078790\n",
       "11       -0.267440\n",
       "12        0.234992\n",
       "...            ...\n",
       "yourself  0.067347\n",
       "youth     0.108680\n",
       "zero     -0.233575\n",
       "zombie   -0.435653\n",
       "zombies  -0.301900\n",
       "\n",
       "[2699 rows x 1 columns]"
      ]
     },
     "execution_count": 90,
     "metadata": {},
     "output_type": "execute_result"
    }
   ],
   "source": [
    "words_weights_df = pd.DataFrame(data=weights, index=vocab, columns=['Weight'])\n",
    "words_weights_df"
   ]
  },
  {
   "cell_type": "code",
   "execution_count": 91,
   "metadata": {},
   "outputs": [
    {
     "data": {
      "text/html": [
       "<div>\n",
       "<style scoped>\n",
       "    .dataframe tbody tr th:only-of-type {\n",
       "        vertical-align: middle;\n",
       "    }\n",
       "\n",
       "    .dataframe tbody tr th {\n",
       "        vertical-align: top;\n",
       "    }\n",
       "\n",
       "    .dataframe thead th {\n",
       "        text-align: right;\n",
       "    }\n",
       "</style>\n",
       "<table border=\"1\" class=\"dataframe\">\n",
       "  <thead>\n",
       "    <tr style=\"text-align: right;\">\n",
       "      <th></th>\n",
       "      <th>Weight</th>\n",
       "    </tr>\n",
       "  </thead>\n",
       "  <tbody>\n",
       "    <tr>\n",
       "      <th>masterpiece</th>\n",
       "      <td>1.716159</td>\n",
       "    </tr>\n",
       "    <tr>\n",
       "      <th>noir</th>\n",
       "      <td>1.637397</td>\n",
       "    </tr>\n",
       "    <tr>\n",
       "      <th>perfect</th>\n",
       "      <td>1.633423</td>\n",
       "    </tr>\n",
       "    <tr>\n",
       "      <th>solid</th>\n",
       "      <td>1.605331</td>\n",
       "    </tr>\n",
       "    <tr>\n",
       "      <th>exceptional</th>\n",
       "      <td>1.572932</td>\n",
       "    </tr>\n",
       "    <tr>\n",
       "      <th>...</th>\n",
       "      <td>...</td>\n",
       "    </tr>\n",
       "    <tr>\n",
       "      <th>forgettable</th>\n",
       "      <td>-2.052239</td>\n",
       "    </tr>\n",
       "    <tr>\n",
       "      <th>terrible</th>\n",
       "      <td>-2.108603</td>\n",
       "    </tr>\n",
       "    <tr>\n",
       "      <th>awful</th>\n",
       "      <td>-2.198328</td>\n",
       "    </tr>\n",
       "    <tr>\n",
       "      <th>waste</th>\n",
       "      <td>-2.530349</td>\n",
       "    </tr>\n",
       "    <tr>\n",
       "      <th>worst</th>\n",
       "      <td>-2.635417</td>\n",
       "    </tr>\n",
       "  </tbody>\n",
       "</table>\n",
       "<p>2699 rows × 1 columns</p>\n",
       "</div>"
      ],
      "text/plain": [
       "               Weight\n",
       "masterpiece  1.716159\n",
       "noir         1.637397\n",
       "perfect      1.633423\n",
       "solid        1.605331\n",
       "exceptional  1.572932\n",
       "...               ...\n",
       "forgettable -2.052239\n",
       "terrible    -2.108603\n",
       "awful       -2.198328\n",
       "waste       -2.530349\n",
       "worst       -2.635417\n",
       "\n",
       "[2699 rows x 1 columns]"
      ]
     },
     "execution_count": 91,
     "metadata": {},
     "output_type": "execute_result"
    }
   ],
   "source": [
    "words_weights_df.sort_values(by=\"Weight\", ascending=False)"
   ]
  },
  {
   "cell_type": "markdown",
   "metadata": {},
   "source": [
    "- These coefficients make sense!\n",
    "- Let's use this to explore one of the test cases:"
   ]
  },
  {
   "cell_type": "code",
   "execution_count": 92,
   "metadata": {},
   "outputs": [
    {
     "data": {
      "text/plain": [
       "0.0018543169525522983"
      ]
     },
     "execution_count": 92,
     "metadata": {},
     "output_type": "execute_result"
    }
   ],
   "source": [
    "ex = 5\n",
    "lr.predict_proba(X_test_imdb)[ex,1]"
   ]
  },
  {
   "cell_type": "code",
   "execution_count": 93,
   "metadata": {},
   "outputs": [
    {
     "data": {
      "text/plain": [
       "\"Its plain to see why the makers of Scary Movie found it so easy to spoof these 'teen slasher' movies. They are so unbelievably formulaic. And if Valentine had been released a year or so earlier, I'm sure they would have been spoofing this film too - that's if they found any actual original material to distinguish it from the Screams, I know what you did last summers, and Urban Legends.<br /><br />Valentine offers nothing new to this genre, except a better than usual ending which, of course, leaves lots of room for the inevitable sequel. As always, a masked psychotic killer stalks a bunch of beautiful young women, killing the main character's friends, one by one, in typically over the top style. Lots of T&A on display, no character development, bad acting, and overly elaborate bloodshed.<br /><br />The thing I can't stand about these kind of movies is that they pass themselves off as 'who done its?'. The thing is that they aren't because the motive is only revealed once the killer has unmasked, and tells the main character who's friends have now all been murdered. Usually something that was never made at all clear during the film anyway (eg. main character's mother's uncle's fishing partner kicked his friend's father's dog). Everybody still left alive throughout the film is a 'suspect', but they are more 'Red Herrings' than suspects. As we all know at this point the main character manages an implausible escape and kills the unmasked psycho killer after the motive is revealed.<br /><br />Valentine followed this formula almost to the letter. ***************SPOILER!!!!!! (mini spoiler anyway)*************** In Valentine the motive was not revealed, but more, left for you to think about given that the film didn't quite conclude in the typical 'teen slash' way. The issue is only part resolved, and the goal of the lead killer may or may not have been fulfilled by surviving the bloodshed and killing almost everybody. Will the killer want more, or were the demons truly vanquished?<br /><br />This still didn't make Valentine a good film, instead it simply saved it from being as bad as usual, which still doesn't count for much. To anybody thinking of making another film along these lines, please don't. Originality is so important, and its hard to see any originality coming out of this genre.\""
      ]
     },
     "execution_count": 93,
     "metadata": {},
     "output_type": "execute_result"
    }
   ],
   "source": [
    "X_test_imdb_raw.iloc[ex]"
   ]
  },
  {
   "cell_type": "code",
   "execution_count": 96,
   "metadata": {},
   "outputs": [
    {
     "data": {
      "text/plain": [
       "array([False, False, False, ..., False, False, False])"
      ]
     },
     "execution_count": 96,
     "metadata": {},
     "output_type": "execute_result"
    }
   ],
   "source": [
    "words_in_ex = X_test_imdb[ex].toarray().ravel().astype(bool)\n",
    "words_in_ex"
   ]
  },
  {
   "cell_type": "markdown",
   "metadata": {},
   "source": [
    "How many of the words are in this review?"
   ]
  },
  {
   "cell_type": "code",
   "execution_count": 98,
   "metadata": {},
   "outputs": [
    {
     "data": {
      "text/plain": [
       "183"
      ]
     },
     "execution_count": 98,
     "metadata": {},
     "output_type": "execute_result"
    }
   ],
   "source": [
    "np.sum(words_in_ex)"
   ]
  },
  {
   "cell_type": "code",
   "execution_count": 97,
   "metadata": {},
   "outputs": [
    {
     "data": {
      "text/plain": [
       "array(['about', 'acting', 'actual', 'after', 'alive', 'all', 'almost',\n",
       "       'along', 'always', 'an', 'and', 'another', 'any', 'anybody',\n",
       "       'anyway', 'are', 'aren', 'as', 'at', 'bad', 'beautiful', 'because',\n",
       "       'been', 'being', 'better', 'br', 'bunch', 'but', 'by', 'can',\n",
       "       'character', 'clear', 'coming', 'count', 'course', 'demons',\n",
       "       'development', 'did', 'didn', 'display', 'doesn', 'dog', 'don',\n",
       "       'done', 'during', 'earlier', 'easy', 'ending', 'escape',\n",
       "       'everybody', 'except', 'father', 'film', 'followed', 'for',\n",
       "       'formula', 'found', 'friend', 'friends', 'from', 'genre', 'given',\n",
       "       'good', 'had', 'hard', 'has', 'have', 'his', 'if', 'important',\n",
       "       'in', 'instead', 'is', 'issue', 'it', 'its', 'killer', 'killing',\n",
       "       'kills', 'kind', 'know', 'last', 'lead', 'leaves', 'left', 'lines',\n",
       "       'lots', 'made', 'main', 'make', 'makers', 'making', 'manages',\n",
       "       'material', 'may', 'more', 'mother', 'movie', 'movies', 'much',\n",
       "       'murdered', 'never', 'new', 'no', 'not', 'nothing', 'now', 'of',\n",
       "       'off', 'offers', 'on', 'once', 'one', 'only', 'or', 'original',\n",
       "       'originality', 'out', 'over', 'overly', 'part', 'partner', 'pass',\n",
       "       'plain', 'please', 'point', 'psycho', 'quite', 'red', 'released',\n",
       "       'revealed', 'room', 'saved', 'scary', 'see', 'sequel', 'simply',\n",
       "       'slasher', 'so', 'something', 'spoiler', 'stand', 'still', 'style',\n",
       "       'sure', 'suspect', 'teen', 'tells', 'than', 'that', 'the',\n",
       "       'themselves', 'these', 'they', 'thing', 'think', 'thinking',\n",
       "       'this', 'throughout', 'to', 'too', 'top', 'truly', 'typical',\n",
       "       'uncle', 'urban', 'usual', 'usually', 'want', 'was', 'way', 'we',\n",
       "       'were', 'what', 'which', 'who', 'why', 'will', 'women', 'would',\n",
       "       'year', 'you', 'young'], dtype='<U14')"
      ]
     },
     "execution_count": 97,
     "metadata": {},
     "output_type": "execute_result"
    }
   ],
   "source": [
    "np.array(vocab)[words_in_ex]"
   ]
  },
  {
   "cell_type": "code",
   "execution_count": 99,
   "metadata": {},
   "outputs": [
    {
     "data": {
      "text/html": [
       "<div>\n",
       "<style scoped>\n",
       "    .dataframe tbody tr th:only-of-type {\n",
       "        vertical-align: middle;\n",
       "    }\n",
       "\n",
       "    .dataframe tbody tr th {\n",
       "        vertical-align: top;\n",
       "    }\n",
       "\n",
       "    .dataframe thead th {\n",
       "        text-align: right;\n",
       "    }\n",
       "</style>\n",
       "<table border=\"1\" class=\"dataframe\">\n",
       "  <thead>\n",
       "    <tr style=\"text-align: right;\">\n",
       "      <th></th>\n",
       "      <th>Weight</th>\n",
       "    </tr>\n",
       "  </thead>\n",
       "  <tbody>\n",
       "    <tr>\n",
       "      <th>about</th>\n",
       "      <td>-0.105881</td>\n",
       "    </tr>\n",
       "    <tr>\n",
       "      <th>acting</th>\n",
       "      <td>-0.372368</td>\n",
       "    </tr>\n",
       "    <tr>\n",
       "      <th>actual</th>\n",
       "      <td>-0.158372</td>\n",
       "    </tr>\n",
       "    <tr>\n",
       "      <th>after</th>\n",
       "      <td>-0.138115</td>\n",
       "    </tr>\n",
       "    <tr>\n",
       "      <th>alive</th>\n",
       "      <td>0.025010</td>\n",
       "    </tr>\n",
       "    <tr>\n",
       "      <th>...</th>\n",
       "      <td>...</td>\n",
       "    </tr>\n",
       "    <tr>\n",
       "      <th>women</th>\n",
       "      <td>-0.336860</td>\n",
       "    </tr>\n",
       "    <tr>\n",
       "      <th>would</th>\n",
       "      <td>-0.219344</td>\n",
       "    </tr>\n",
       "    <tr>\n",
       "      <th>year</th>\n",
       "      <td>-0.021090</td>\n",
       "    </tr>\n",
       "    <tr>\n",
       "      <th>you</th>\n",
       "      <td>0.257461</td>\n",
       "    </tr>\n",
       "    <tr>\n",
       "      <th>young</th>\n",
       "      <td>0.179742</td>\n",
       "    </tr>\n",
       "  </tbody>\n",
       "</table>\n",
       "<p>183 rows × 1 columns</p>\n",
       "</div>"
      ],
      "text/plain": [
       "          Weight\n",
       "about  -0.105881\n",
       "acting -0.372368\n",
       "actual -0.158372\n",
       "after  -0.138115\n",
       "alive   0.025010\n",
       "...          ...\n",
       "women  -0.336860\n",
       "would  -0.219344\n",
       "year   -0.021090\n",
       "you     0.257461\n",
       "young   0.179742\n",
       "\n",
       "[183 rows x 1 columns]"
      ]
     },
     "execution_count": 99,
     "metadata": {},
     "output_type": "execute_result"
    }
   ],
   "source": [
    "ex_df = pd.DataFrame(data=weights[words_in_ex], index=np.array(vocab)[words_in_ex], columns=['Weight'])\n",
    "ex_df"
   ]
  },
  {
   "cell_type": "code",
   "execution_count": 100,
   "metadata": {},
   "outputs": [
    {
     "data": {
      "text/plain": [
       "Weight   -6.702551\n",
       "dtype: float64"
      ]
     },
     "execution_count": 100,
     "metadata": {},
     "output_type": "execute_result"
    }
   ],
   "source": [
    "ex_df.sum()"
   ]
  },
  {
   "cell_type": "markdown",
   "metadata": {},
   "source": [
    "- As we can see, the sum is negative, so we predicted that it's a negative review.\n",
    "- Also, the more negative this value is, the closer to 0 the predicted probability would be. \n",
    "  - If this value were exactly 0, the predicted probability would be exactly 0.5."
   ]
  },
  {
   "cell_type": "markdown",
   "metadata": {
    "slideshow": {
     "slide_type": "slide"
    }
   },
   "source": [
    "#### Why people use logistic regression?  \n",
    "\n",
    "- Logistic regression is extremely popular!\n",
    "- Fast training and testing.\n",
    "  - Training on huge datasets.\n",
    "- Interpretability\n",
    "  - Weights are how much a given feature changes the prediction and in what direction."
   ]
  },
  {
   "cell_type": "markdown",
   "metadata": {},
   "source": [
    "## Logistic regression with continuous features (5 min)"
   ]
  },
  {
   "cell_type": "code",
   "execution_count": 17,
   "metadata": {
    "slideshow": {
     "slide_type": "slide"
    }
   },
   "outputs": [],
   "source": [
    "cities_df = pd.read_csv('data/cities_USA.csv', index_col=0)"
   ]
  },
  {
   "cell_type": "code",
   "execution_count": 18,
   "metadata": {},
   "outputs": [],
   "source": [
    "cities_train, cities_test = train_test_split(cities_df, random_state=1)"
   ]
  },
  {
   "cell_type": "code",
   "execution_count": 19,
   "metadata": {},
   "outputs": [],
   "source": [
    "X_train = cities_train.drop(columns=['vote'])\n",
    "y_train = cities_train['vote']\n",
    "\n",
    "# X_test  = df_valid_shuffle.drop(columns=['vote'])\n",
    "# y_test  = df_valid_shuffle['vote']"
   ]
  },
  {
   "cell_type": "code",
   "execution_count": 20,
   "metadata": {},
   "outputs": [],
   "source": [
    "lr = LogisticRegression()\n",
    "lr.fit(X_train, y_train);"
   ]
  },
  {
   "cell_type": "code",
   "execution_count": 21,
   "metadata": {},
   "outputs": [
    {
     "data": {
      "image/png": "[encoded data removed]",
      "text/plain": [
       "<Figure size 432x288 with 1 Axes>"
      ]
     },
     "metadata": {},
     "output_type": "display_data"
    }
   ],
   "source": [
    "plot_classifier(X_train, y_train, lr);"
   ]
  },
  {
   "cell_type": "markdown",
   "metadata": {},
   "source": [
    "- There are still some coefficients/weights being multiplied by the features.\n",
    "- A linear classifier \"slices the space in half\" with a \"hyperplane\" (with 2 features, this is just a line)."
   ]
  },
  {
   "cell_type": "markdown",
   "metadata": {},
   "source": [
    "Let's look at the predicted probabilties:"
   ]
  },
  {
   "cell_type": "code",
   "execution_count": 15,
   "metadata": {
    "slideshow": {
     "slide_type": "slide"
    }
   },
   "outputs": [
    {
     "data": {
      "image/png": "[encoded data removed]",
      "text/plain": [
       "<Figure size 432x288 with 2 Axes>"
      ]
     },
     "metadata": {
      "needs_background": "light"
     },
     "output_type": "display_data"
    }
   ],
   "source": [
    "plot_classifier(X_train, y_train, lr, proba=True);"
   ]
  },
  {
   "cell_type": "markdown",
   "metadata": {},
   "source": [
    "An important hyperparameter: `C` (default is `C=1.0`)."
   ]
  },
  {
   "cell_type": "code",
   "execution_count": 24,
   "metadata": {},
   "outputs": [
    {
     "data": {
      "image/png": "[encoded data removed]",
      "text/plain": [
       "<Figure size 432x288 with 2 Axes>"
      ]
     },
     "metadata": {
      "needs_background": "light"
     },
     "output_type": "display_data"
    }
   ],
   "source": [
    "lr = LogisticRegression(C=.0001)\n",
    "lr.fit(X_train, y_train);\n",
    "plot_classifier(X_train, y_train, lr, proba=True);"
   ]
  },
  {
   "cell_type": "markdown",
   "metadata": {},
   "source": [
    "- Smaller `C` leads to less confident predictions (probabilties closer to 0.5).\n",
    "- In general, we say smaller `C` leads to a less complex model (like a shallower decision tree).\n",
    "  - Complex models are really a larger `C` in conjunction with lots of features.\n",
    "  - Here we only have 2 features."
   ]
  },
  {
   "cell_type": "code",
   "execution_count": 25,
   "metadata": {},
   "outputs": [
    {
     "data": {
      "image/png": "[encoded data removed]",
      "text/plain": [
       "<Figure size 432x288 with 2 Axes>"
      ]
     },
     "metadata": {
      "needs_background": "light"
     },
     "output_type": "display_data"
    }
   ],
   "source": [
    "lr = LogisticRegression(C=1000)\n",
    "lr.fit(X_train, y_train);\n",
    "plot_classifier(X_train, y_train, lr, proba=True);"
   ]
  },
  {
   "cell_type": "code",
   "execution_count": 42,
   "metadata": {},
   "outputs": [
    {
     "name": "stdout",
     "output_type": "stream",
     "text": [
      "Training error:   0.02\n",
      "Validation error: 0.16\n"
     ]
    }
   ],
   "source": [
    "lr = LogisticRegression()\n",
    "lr.fit(X_train_imdb, y_train_imdb)\n",
    "show_scores(lr, X_train_imdb, y_train_imdb, X_test_imdb, y_test_imdb) "
   ]
  },
  {
   "cell_type": "code",
   "execution_count": 43,
   "metadata": {},
   "outputs": [
    {
     "name": "stdout",
     "output_type": "stream",
     "text": [
      "Training error:   0.00\n",
      "Validation error: 0.19\n"
     ]
    }
   ],
   "source": [
    "lr = LogisticRegression(C = 10000)\n",
    "lr.fit(X_train_imdb, y_train_imdb)\n",
    "show_scores(lr, X_train_imdb, y_train_imdb, X_test_imdb, y_test_imdb) "
   ]
  },
  {
   "cell_type": "code",
   "execution_count": 44,
   "metadata": {},
   "outputs": [
    {
     "name": "stdout",
     "output_type": "stream",
     "text": [
      "Training error:   0.11\n",
      "Validation error: 0.14\n"
     ]
    }
   ],
   "source": [
    "lr = LogisticRegression(C = 0.01)\n",
    "lr.fit(X_train_imdb, y_train_imdb)\n",
    "show_scores(lr, X_train_imdb, y_train_imdb, X_test_imdb, y_test_imdb) "
   ]
  },
  {
   "cell_type": "markdown",
   "metadata": {},
   "source": [
    "## True/False questions --> Piazza\n",
    "\n",
    "1. With `CountVectorizer`, we should be `fit` on the training data, and `transform` on both the train/test data.\n",
    "2. `predict` returns the positive class if the predicted probability of the positive class is greater than 0.5.\n",
    "3. Logistic regression overfits less than decision trees.\n",
    "4. With logistic regression, we learn one weight per training example."
   ]
  },
  {
   "cell_type": "markdown",
   "metadata": {},
   "source": [
    "## Next class\n",
    "\n",
    "- Dealing with categorical features.\n",
    "- Logistic regression with continuous features.\n",
    "- Another classifier: SVMs\n",
    "- Another classifier: random forests\n",
    "- Ensembles"
   ]
  },
  {
   "cell_type": "code",
   "execution_count": null,
   "metadata": {},
   "outputs": [],
   "source": []
  }
 ],
 "metadata": {
  "celltoolbar": "Slideshow",
  "kernelspec": {
   "display_name": "Python 3",
   "language": "python",
   "name": "python3"
  },
  "language_info": {
   "codemirror_mode": {
    "name": "ipython",
    "version": 3
   },
   "file_extension": ".py",
   "mimetype": "text/x-python",
   "name": "python",
   "nbconvert_exporter": "python",
   "pygments_lexer": "ipython3",
   "version": "3.8.5"
  }
 },
 "nbformat": 4,
 "nbformat_minor": 4
}
